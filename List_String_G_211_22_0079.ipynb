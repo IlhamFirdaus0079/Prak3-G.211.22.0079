{
  "nbformat": 4,
  "nbformat_minor": 0,
  "metadata": {
    "colab": {
      "provenance": []
    },
    "kernelspec": {
      "name": "python3",
      "display_name": "Python 3"
    },
    "language_info": {
      "name": "python"
    }
  },
  "cells": [
    {
      "cell_type": "markdown",
      "source": [
        "CONTOH"
      ],
      "metadata": {
        "id": "slyj_B_magXJ"
      }
    },
    {
      "cell_type": "code",
      "execution_count": null,
      "metadata": {
        "colab": {
          "base_uri": "https://localhost:8080/"
        },
        "id": "_GGk-PC_aaiu",
        "outputId": "7a6afddd-3c93-416a-fb37-7b1bb40e951e"
      },
      "outputs": [
        {
          "output_type": "stream",
          "name": "stdout",
          "text": [
            " geeksforgeeks\n"
          ]
        }
      ],
      "source": [
        "def convert(s):\n",
        "    new = \" \"\n",
        "    for x in s:\n",
        "        new += x\n",
        "    return new\n",
        "\n",
        "# driver code\n",
        "s = ['g', 'e', 'e', 'k', 's', 'f', 'o', 'r', 'g', 'e', 'e', 'k', 's']\n",
        "print(convert(s))"
      ]
    },
    {
      "cell_type": "markdown",
      "source": [
        "LATIHAN SOAL"
      ],
      "metadata": {
        "id": "SZFYht5makCR"
      }
    },
    {
      "cell_type": "code",
      "source": [
        "def convert(s):\n",
        "    new = \" \"\n",
        "    for x in s:\n",
        "        new += x\n",
        "    return new\n",
        "\n",
        "# driver code\n",
        "s = ['p', 'r', 'o', 'g', 'r', 'a', 'm', 'm', 'i', 'n', 'g']\n",
        "print(convert(s))"
      ],
      "metadata": {
        "colab": {
          "base_uri": "https://localhost:8080/"
        },
        "id": "itOqE3NyamJM",
        "outputId": "59497e62-bd94-421c-935e-8e2fa36660d6"
      },
      "execution_count": null,
      "outputs": [
        {
          "output_type": "stream",
          "name": "stdout",
          "text": [
            " programming\n"
          ]
        }
      ]
    },
    {
      "cell_type": "code",
      "source": [
        "def convert_to_string(char_list):\n",
        "    # Mengonversi daftar karakter menjadi string\n",
        "    converted_string = ''.join(char_list)\n",
        "    return converted_string\n",
        "\n",
        "char_list = ['p', 'r', 'o', 'g', 'r', 'a', 'm', 'm', 'i', 'n', 'g']\n",
        "result = convert_to_string(char_list)\n",
        "print(result)"
      ],
      "metadata": {
        "colab": {
          "base_uri": "https://localhost:8080/"
        },
        "id": "rchjsQ-ya_Ti",
        "outputId": "7d7ea21a-802f-4451-a22f-eff41ada1bfa"
      },
      "execution_count": null,
      "outputs": [
        {
          "output_type": "stream",
          "name": "stdout",
          "text": [
            "programming\n"
          ]
        }
      ]
    }
  ]
}